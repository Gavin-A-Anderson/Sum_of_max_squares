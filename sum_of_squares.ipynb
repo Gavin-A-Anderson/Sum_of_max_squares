{
 "cells": [
  {
   "cell_type": "code",
   "execution_count": 1,
   "id": "6c2891e4-3a7b-4c15-b51e-11dd69f72fbd",
   "metadata": {},
   "outputs": [],
   "source": [
    "def factorize(n):\n",
    "    factors = []\n",
    "    for i in range(1,n+1):\n",
    "        if n%i == 0:\n",
    "            factors.append(i)\n",
    "    return(factors)"
   ]
  },
  {
   "cell_type": "code",
   "execution_count": 3,
   "id": "d364068a-eec1-453c-8196-0e863aee3280",
   "metadata": {},
   "outputs": [],
   "source": [
    "def max_perfect_square_factor(factors):\n",
    "    p_squares = []\n",
    "    for i in factors:\n",
    "        if i**2 in factors:\n",
    "            p_squares.append(i**2)\n",
    "    return max(p_squares)"
   ]
  },
  {
   "cell_type": "code",
   "execution_count": 5,
   "id": "8dbb6f4e-d6b2-4c32-b266-12becc125b3a",
   "metadata": {},
   "outputs": [
    {
     "data": {
      "text/plain": [
       "100"
      ]
     },
     "execution_count": 5,
     "metadata": {},
     "output_type": "execute_result"
    }
   ],
   "source": [
    "max_perfect_square_factor(factorize(100))"
   ]
  },
  {
   "cell_type": "code",
   "execution_count": 60,
   "id": "c4430a55-bae9-4a02-86d7-082a6fb2d98c",
   "metadata": {},
   "outputs": [
    {
     "data": {
      "text/plain": [
       "[1, 2, 3, 6, 173, 346, 519, 1038]"
      ]
     },
     "execution_count": 60,
     "metadata": {},
     "output_type": "execute_result"
    }
   ],
   "source": [
    "factorize(1038)"
   ]
  },
  {
   "cell_type": "code",
   "execution_count": 6,
   "id": "db71caf5-4390-4565-9c9d-3b12cfd8c370",
   "metadata": {},
   "outputs": [],
   "source": [
    "def sum_squares(N):\n",
    "    sum_of_squares = 0\n",
    "    for i in range(N):\n",
    "        sum_of_squares += max_perfect_square_factor(factorize(i+1))\n",
    "    return(sum_of_squares)"
   ]
  },
  {
   "cell_type": "code",
   "execution_count": null,
   "id": "fd20d5c0-9427-44f2-a02f-cdc94224da33",
   "metadata": {},
   "outputs": [],
   "source": [
    "sum_squares(100000)"
   ]
  },
  {
   "cell_type": "code",
   "execution_count": null,
   "id": "1b4831e2-efbe-4468-b86d-35cac20fe9ee",
   "metadata": {},
   "outputs": [],
   "source": []
  },
  {
   "cell_type": "code",
   "execution_count": null,
   "id": "81390acd-086e-4ff6-a160-c17d99788fd4",
   "metadata": {},
   "outputs": [],
   "source": []
  },
  {
   "cell_type": "code",
   "execution_count": null,
   "id": "33cf48f4-ceee-4233-a89c-6f964d199429",
   "metadata": {},
   "outputs": [],
   "source": []
  }
 ],
 "metadata": {
  "kernelspec": {
   "display_name": "Python 3",
   "language": "python",
   "name": "python3"
  },
  "language_info": {
   "codemirror_mode": {
    "name": "ipython",
    "version": 3
   },
   "file_extension": ".py",
   "mimetype": "text/x-python",
   "name": "python",
   "nbconvert_exporter": "python",
   "pygments_lexer": "ipython3",
   "version": "3.8.8"
  }
 },
 "nbformat": 4,
 "nbformat_minor": 5
}
